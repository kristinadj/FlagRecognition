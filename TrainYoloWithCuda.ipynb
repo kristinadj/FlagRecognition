{
  "nbformat": 4,
  "nbformat_minor": 0,
  "metadata": {
    "colab": {
      "name": "TrainYoloWithCuda.ipynb",
      "provenance": []
    },
    "kernelspec": {
      "name": "python3",
      "display_name": "Python 3"
    },
    "accelerator": "GPU"
  },
  "cells": [
    {
      "cell_type": "markdown",
      "metadata": {
        "id": "wcjOnfaMbXUj",
        "colab_type": "text"
      },
      "source": [
        "Connecting the Colab notebook to Google Drive"
      ]
    },
    {
      "cell_type": "code",
      "metadata": {
        "id": "yC9vOgYieyXJ",
        "colab_type": "code",
        "colab": {}
      },
      "source": [
        "from google.colab import drive\n",
        "drive.mount('/content/gdrive')"
      ],
      "execution_count": null,
      "outputs": []
    },
    {
      "cell_type": "markdown",
      "metadata": {
        "id": "1LDl4uqkbJxB",
        "colab_type": "text"
      },
      "source": [
        "Check CUDA release version and install cuDNN"
      ]
    },
    {
      "cell_type": "code",
      "metadata": {
        "id": "st0xjuWGKQjM",
        "colab_type": "code",
        "colab": {}
      },
      "source": [
        "#!/usr/local/cuda/bin/nvcc --version"
      ],
      "execution_count": null,
      "outputs": []
    },
    {
      "cell_type": "code",
      "metadata": {
        "id": "m8_2FWu7Klw-",
        "colab_type": "code",
        "colab": {}
      },
      "source": [
        "# Unzipping the cuDNN files from your Drive folder directly to the VM CUDA folders\n",
        "!tar -xzvf gdrive/My\\ Drive/SOFT/cudnn-10.1-linux-x64-v7.6.4.38.solitairetheme8 -C /usr/local/\n",
        "!chmod a+r /usr/local/cuda/include/cudnn.h\n",
        "\n",
        "# Now we check the version we already installed. Can comment this line on future runs\n",
        "!cat /usr/local/cuda/include/cudnn.h | grep CUDNN_MAJOR -A 2"
      ],
      "execution_count": null,
      "outputs": []
    },
    {
      "cell_type": "code",
      "metadata": {
        "id": "0SgzpQeYJhRk",
        "colab_type": "code",
        "colab": {}
      },
      "source": [
        "cd /content/gdrive/My Drive/SOFT"
      ],
      "execution_count": null,
      "outputs": []
    },
    {
      "cell_type": "code",
      "metadata": {
        "id": "9Umul3ucKqOZ",
        "colab_type": "code",
        "colab": {}
      },
      "source": [
        "!git clone https://github.com/kriyeng/darknet.git"
      ],
      "execution_count": null,
      "outputs": []
    },
    {
      "cell_type": "code",
      "metadata": {
        "id": "0IvlHELZK79E",
        "colab_type": "code",
        "colab": {}
      },
      "source": [
        "cd darknet"
      ],
      "execution_count": null,
      "outputs": []
    },
    {
      "cell_type": "code",
      "metadata": {
        "id": "z4kESJk6K2jM",
        "colab_type": "code",
        "colab": {}
      },
      "source": [
        "!make"
      ],
      "execution_count": null,
      "outputs": []
    },
    {
      "cell_type": "code",
      "metadata": {
        "id": "YClVWgH2gsBk",
        "colab_type": "code",
        "colab": {}
      },
      "source": [
        "cd /content/gdrive/My Drive/SOFT"
      ],
      "execution_count": null,
      "outputs": []
    },
    {
      "cell_type": "code",
      "metadata": {
        "id": "el6Bj2jHgo8l",
        "colab_type": "code",
        "colab": {}
      },
      "source": [
        "!git clone https://github.com/kristinadj/FlagRecognition.git"
      ],
      "execution_count": null,
      "outputs": []
    },
    {
      "cell_type": "code",
      "metadata": {
        "id": "AeE5vCw2KOTg",
        "colab_type": "code",
        "colab": {}
      },
      "source": [
        "cd /content/gdrive/My Drive/SOFT/darknet"
      ],
      "execution_count": null,
      "outputs": []
    },
    {
      "cell_type": "code",
      "metadata": {
        "colab_type": "code",
        "id": "ztFZxv10pT8Y",
        "colab": {}
      },
      "source": [
        "#!wget https://pjreddie.com/media/files/darknet53.conv.74 -O /content/gdrive/My\\ Drive/SOFT/FlagRecognition/weights/darknet53.conv.74"
      ],
      "execution_count": null,
      "outputs": []
    },
    {
      "cell_type": "code",
      "metadata": {
        "id": "8Ozmg8HMLbSL",
        "colab_type": "code",
        "colab": {}
      },
      "source": [
        "!./darknet detector train ../FlagRecognition/darknet.data ../FlagRecognition/yolov3-tiny.cfg ../weights/darknet53.conv.74 -dont_show -map"
      ],
      "execution_count": null,
      "outputs": []
    },
    {
      "cell_type": "code",
      "metadata": {
        "id": "KNfJSya3LeYw",
        "colab_type": "code",
        "colab": {}
      },
      "source": [
        "!./darknet detector test /content/FlagRecognition/darknet.data /content/FlagRecognition/yolov3-tiny.cfg /content/FlagRecognition/weights/yolov3-tiny_final.weights -dont_show"
      ],
      "execution_count": null,
      "outputs": []
    },
    {
      "cell_type": "code",
      "metadata": {
        "id": "VwQ2mMZiLf3M",
        "colab_type": "code",
        "colab": {}
      },
      "source": [
        "!./darknet detector map /content/FlagRecognition/darknet.data /content/FlagRecognition/yolov3-tiny.cfg /content/FlagRecognition/weights/yolov3-tiny_final.weights"
      ],
      "execution_count": null,
      "outputs": []
    }
  ]
}