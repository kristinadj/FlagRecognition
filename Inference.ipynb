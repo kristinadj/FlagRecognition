{
  "nbformat": 4,
  "nbformat_minor": 0,
  "metadata": {
    "colab": {
      "name": "Untitled1.ipynb",
      "provenance": [],
      "mount_file_id": "1no-5-9rOdlM24-gxMGQQK86BD5-eYHiT",
      "authorship_tag": "ABX9TyPDGdN621hC4jYK1ZxaMLBF",
      "include_colab_link": true
    },
    "kernelspec": {
      "name": "python3",
      "display_name": "Python 3"
    }
  },
  "cells": [
    {
      "cell_type": "markdown",
      "metadata": {
        "id": "view-in-github",
        "colab_type": "text"
      },
      "source": [
        "<a href=\"https://colab.research.google.com/github/kristinadj/FlagRecognition/blob/master/Inference.ipynb\" target=\"_parent\"><img src=\"https://colab.research.google.com/assets/colab-badge.svg\" alt=\"Open In Colab\"/></a>"
      ]
    },
    {
      "cell_type": "code",
      "metadata": {
        "id": "j8Ne-f3ZmDnP",
        "colab_type": "code",
        "colab": {
          "base_uri": "https://localhost:8080/",
          "height": 292
        },
        "outputId": "d1b8cd10-3653-45aa-bc9e-d2137bd574c7"
      },
      "source": [
        "!pip install keras==2.2.4"
      ],
      "execution_count": 1,
      "outputs": [
        {
          "output_type": "stream",
          "text": [
            "Collecting keras==2.2.4\n",
            "\u001b[?25l  Downloading https://files.pythonhosted.org/packages/5e/10/aa32dad071ce52b5502266b5c659451cfd6ffcbf14e6c8c4f16c0ff5aaab/Keras-2.2.4-py2.py3-none-any.whl (312kB)\n",
            "\r\u001b[K     |█                               | 10kB 21.5MB/s eta 0:00:01\r\u001b[K     |██                              | 20kB 3.2MB/s eta 0:00:01\r\u001b[K     |███▏                            | 30kB 4.0MB/s eta 0:00:01\r\u001b[K     |████▏                           | 40kB 3.1MB/s eta 0:00:01\r\u001b[K     |█████▎                          | 51kB 3.4MB/s eta 0:00:01\r\u001b[K     |██████▎                         | 61kB 4.0MB/s eta 0:00:01\r\u001b[K     |███████▍                        | 71kB 4.2MB/s eta 0:00:01\r\u001b[K     |████████▍                       | 81kB 4.5MB/s eta 0:00:01\r\u001b[K     |█████████▍                      | 92kB 5.1MB/s eta 0:00:01\r\u001b[K     |██████████▌                     | 102kB 4.8MB/s eta 0:00:01\r\u001b[K     |███████████▌                    | 112kB 4.8MB/s eta 0:00:01\r\u001b[K     |████████████▋                   | 122kB 4.8MB/s eta 0:00:01\r\u001b[K     |█████████████▋                  | 133kB 4.8MB/s eta 0:00:01\r\u001b[K     |██████████████▊                 | 143kB 4.8MB/s eta 0:00:01\r\u001b[K     |███████████████▊                | 153kB 4.8MB/s eta 0:00:01\r\u001b[K     |████████████████▊               | 163kB 4.8MB/s eta 0:00:01\r\u001b[K     |█████████████████▉              | 174kB 4.8MB/s eta 0:00:01\r\u001b[K     |██████████████████▉             | 184kB 4.8MB/s eta 0:00:01\r\u001b[K     |████████████████████            | 194kB 4.8MB/s eta 0:00:01\r\u001b[K     |█████████████████████           | 204kB 4.8MB/s eta 0:00:01\r\u001b[K     |██████████████████████          | 215kB 4.8MB/s eta 0:00:01\r\u001b[K     |███████████████████████         | 225kB 4.8MB/s eta 0:00:01\r\u001b[K     |████████████████████████▏       | 235kB 4.8MB/s eta 0:00:01\r\u001b[K     |█████████████████████████▏      | 245kB 4.8MB/s eta 0:00:01\r\u001b[K     |██████████████████████████▏     | 256kB 4.8MB/s eta 0:00:01\r\u001b[K     |███████████████████████████▎    | 266kB 4.8MB/s eta 0:00:01\r\u001b[K     |████████████████████████████▎   | 276kB 4.8MB/s eta 0:00:01\r\u001b[K     |█████████████████████████████▍  | 286kB 4.8MB/s eta 0:00:01\r\u001b[K     |██████████████████████████████▍ | 296kB 4.8MB/s eta 0:00:01\r\u001b[K     |███████████████████████████████▌| 307kB 4.8MB/s eta 0:00:01\r\u001b[K     |████████████████████████████████| 317kB 4.8MB/s \n",
            "\u001b[?25hRequirement already satisfied: scipy>=0.14 in /usr/local/lib/python3.6/dist-packages (from keras==2.2.4) (1.4.1)\n",
            "Requirement already satisfied: pyyaml in /usr/local/lib/python3.6/dist-packages (from keras==2.2.4) (3.13)\n",
            "Requirement already satisfied: h5py in /usr/local/lib/python3.6/dist-packages (from keras==2.2.4) (2.8.0)\n",
            "Requirement already satisfied: numpy>=1.9.1 in /usr/local/lib/python3.6/dist-packages (from keras==2.2.4) (1.17.5)\n",
            "Requirement already satisfied: keras-applications>=1.0.6 in /usr/local/lib/python3.6/dist-packages (from keras==2.2.4) (1.0.8)\n",
            "Requirement already satisfied: keras-preprocessing>=1.0.5 in /usr/local/lib/python3.6/dist-packages (from keras==2.2.4) (1.1.0)\n",
            "Requirement already satisfied: six>=1.9.0 in /usr/local/lib/python3.6/dist-packages (from keras==2.2.4) (1.12.0)\n",
            "Installing collected packages: keras\n",
            "  Found existing installation: Keras 2.2.5\n",
            "    Uninstalling Keras-2.2.5:\n",
            "      Successfully uninstalled Keras-2.2.5\n",
            "Successfully installed keras-2.2.4\n"
          ],
          "name": "stdout"
        }
      ]
    },
    {
      "cell_type": "code",
      "metadata": {
        "id": "XdIQneaEmPt7",
        "colab_type": "code",
        "colab": {
          "base_uri": "https://localhost:8080/",
          "height": 51
        },
        "outputId": "347900d8-026f-4bfb-dd83-a396f25978f1"
      },
      "source": [
        "!python -c 'import keras; print(keras.__version__)'"
      ],
      "execution_count": 2,
      "outputs": [
        {
          "output_type": "stream",
          "text": [
            "Using TensorFlow backend.\n",
            "2.2.4\n"
          ],
          "name": "stdout"
        }
      ]
    },
    {
      "cell_type": "code",
      "metadata": {
        "id": "0N4H5ozVmS9l",
        "colab_type": "code",
        "colab": {
          "base_uri": "https://localhost:8080/",
          "height": 102
        },
        "outputId": "59fc29f6-e784-471d-abe5-b916634d469f"
      },
      "source": [
        "!git clone https://github.com/josephofiowa/keras-yolo3.git"
      ],
      "execution_count": 3,
      "outputs": [
        {
          "output_type": "stream",
          "text": [
            "Cloning into 'keras-yolo3'...\n",
            "remote: Enumerating objects: 165, done.\u001b[K\n",
            "remote: Total 165 (delta 0), reused 0 (delta 0), pack-reused 165\u001b[K\n",
            "Receiving objects: 100% (165/165), 156.01 KiB | 1.08 MiB/s, done.\n",
            "Resolving deltas: 100% (79/79), done.\n"
          ],
          "name": "stdout"
        }
      ]
    },
    {
      "cell_type": "code",
      "metadata": {
        "id": "TVKxFDmrmVdC",
        "colab_type": "code",
        "colab": {
          "base_uri": "https://localhost:8080/",
          "height": 34
        },
        "outputId": "b6ea5fa4-9c1b-4c70-ed09-666a74dcd387"
      },
      "source": [
        "%cd keras-yolo3/"
      ],
      "execution_count": 4,
      "outputs": [
        {
          "output_type": "stream",
          "text": [
            "/content/keras-yolo3\n"
          ],
          "name": "stdout"
        }
      ]
    },
    {
      "cell_type": "code",
      "metadata": {
        "id": "V4F0RWc6m97_",
        "colab_type": "code",
        "colab": {
          "base_uri": "https://localhost:8080/",
          "height": 1000
        },
        "outputId": "78767efe-919c-4e7c-dd50-ca03d70f1e82"
      },
      "source": [
        "!python yolo_video.py --model=\"/content/drive/My Drive/trained_weights_stage_1_2020-02-16-22:48.h5\" --classes=\"_classes.txt\" --image"
      ],
      "execution_count": 0,
      "outputs": [
        {
          "output_type": "stream",
          "text": [
            "Using TensorFlow backend.\n",
            "Image detection mode\n",
            " Ignoring remaining command line arguments: ./path2your_video,\n",
            "WARNING:tensorflow:From /usr/local/lib/python3.6/dist-packages/keras/backend/tensorflow_backend.py:174: The name tf.get_default_session is deprecated. Please use tf.compat.v1.get_default_session instead.\n",
            "\n",
            "WARNING:tensorflow:From /usr/local/lib/python3.6/dist-packages/keras/backend/tensorflow_backend.py:181: The name tf.ConfigProto is deprecated. Please use tf.compat.v1.ConfigProto instead.\n",
            "\n",
            "WARNING:tensorflow:From /usr/local/lib/python3.6/dist-packages/keras/backend/tensorflow_backend.py:186: The name tf.Session is deprecated. Please use tf.compat.v1.Session instead.\n",
            "\n",
            "2020-02-17 14:47:11.907649: I tensorflow/core/platform/profile_utils/cpu_utils.cc:94] CPU Frequency: 2200000000 Hz\n",
            "2020-02-17 14:47:11.910669: I tensorflow/compiler/xla/service/service.cc:168] XLA service 0x1ebabc0 initialized for platform Host (this does not guarantee that XLA will be used). Devices:\n",
            "2020-02-17 14:47:11.910738: I tensorflow/compiler/xla/service/service.cc:176]   StreamExecutor device (0): Host, Default Version\n",
            "2020-02-17 14:47:11.989367: I tensorflow/stream_executor/platform/default/dso_loader.cc:44] Successfully opened dynamic library libcuda.so.1\n",
            "2020-02-17 14:47:12.031523: E tensorflow/stream_executor/cuda/cuda_driver.cc:318] failed call to cuInit: CUDA_ERROR_NO_DEVICE: no CUDA-capable device is detected\n",
            "2020-02-17 14:47:12.031589: I tensorflow/stream_executor/cuda/cuda_diagnostics.cc:156] kernel driver does not appear to be running on this host (dc34c844e66c): /proc/driver/nvidia/version does not exist\n",
            "WARNING:tensorflow:From /usr/local/lib/python3.6/dist-packages/keras/backend/tensorflow_backend.py:190: The name tf.global_variables is deprecated. Please use tf.compat.v1.global_variables instead.\n",
            "\n",
            "WARNING:tensorflow:From /usr/local/lib/python3.6/dist-packages/keras/backend/tensorflow_backend.py:74: The name tf.get_default_graph is deprecated. Please use tf.compat.v1.get_default_graph instead.\n",
            "\n",
            "WARNING:tensorflow:From /usr/local/lib/python3.6/dist-packages/keras/backend/tensorflow_backend.py:517: The name tf.placeholder is deprecated. Please use tf.compat.v1.placeholder instead.\n",
            "\n",
            "WARNING:tensorflow:From /usr/local/lib/python3.6/dist-packages/keras/backend/tensorflow_backend.py:4138: The name tf.random_uniform is deprecated. Please use tf.random.uniform instead.\n",
            "\n",
            "WARNING:tensorflow:From /usr/local/lib/python3.6/dist-packages/keras/backend/tensorflow_backend.py:199: The name tf.is_variable_initialized is deprecated. Please use tf.compat.v1.is_variable_initialized instead.\n",
            "\n",
            "WARNING:tensorflow:From /usr/local/lib/python3.6/dist-packages/keras/backend/tensorflow_backend.py:206: The name tf.variables_initializer is deprecated. Please use tf.compat.v1.variables_initializer instead.\n",
            "\n",
            "WARNING:tensorflow:From /usr/local/lib/python3.6/dist-packages/keras/backend/tensorflow_backend.py:1834: The name tf.nn.fused_batch_norm is deprecated. Please use tf.compat.v1.nn.fused_batch_norm instead.\n",
            "\n",
            "WARNING:tensorflow:From /usr/local/lib/python3.6/dist-packages/keras/backend/tensorflow_backend.py:133: The name tf.placeholder_with_default is deprecated. Please use tf.compat.v1.placeholder_with_default instead.\n",
            "\n",
            "WARNING:tensorflow:From /usr/local/lib/python3.6/dist-packages/keras/backend/tensorflow_backend.py:2018: The name tf.image.resize_nearest_neighbor is deprecated. Please use tf.compat.v1.image.resize_nearest_neighbor instead.\n",
            "\n",
            "/content/drive/My Drive/trained_weights_stage_1_2020-02-16-22:48.h5 model, anchors, and classes loaded.\n",
            "WARNING:tensorflow:From /usr/local/lib/python3.6/dist-packages/tensorflow_core/python/ops/array_ops.py:1475: where (from tensorflow.python.ops.array_ops) is deprecated and will be removed in a future version.\n",
            "Instructions for updating:\n",
            "Use tf.where in 2.0, which has the same broadcast rule as np.where\n",
            "Input image filename:images.jpg\n",
            "(416, 416, 3)\n",
            "2020-02-17 14:48:49.741979: E tensorflow/core/grappler/optimizers/meta_optimizer.cc:533] remapper failed: Invalid argument: Subshape must have computed start >= end since stride is negative, but is 0 and 2 (computed from start 0 and end 9223372036854775807 over shape with rank 2 and stride-1)\n",
            "2020-02-17 14:48:49.925074: E tensorflow/core/grappler/optimizers/meta_optimizer.cc:533] remapper failed: Invalid argument: Subshape must have computed start >= end since stride is negative, but is 0 and 2 (computed from start 0 and end 9223372036854775807 over shape with rank 2 and stride-1)\n",
            "Found 1 boxes for img\n",
            "rs 0.94 (68, 36) (168, 150)\n",
            "2.810706696000011\n",
            "Input image filename:\n",
            "Open Error! Try again!\n",
            "Input image filename:exit\n",
            "Open Error! Try again!\n",
            "Input image filename:download.jpg\n",
            "(416, 416, 3)\n",
            "Found 0 boxes for img\n",
            "1.632130165000035\n",
            "Input image filename:images(1).jpg\n",
            "Open Error! Try again!\n",
            "Input image filename:images (1).jpg\n",
            "(416, 416, 3)\n",
            "Found 0 boxes for img\n",
            "1.607116675000043\n",
            "Input image filename:images.jpg\n",
            "(416, 416, 3)\n",
            "Found 1 boxes for img\n",
            "rs 0.94 (68, 36) (168, 150)\n",
            "1.6410104889999957\n",
            "Input image filename:hungary_flag-e1536343207467.jpg\n",
            "(416, 416, 3)\n",
            "Found 1 boxes for img\n",
            "de 0.53 (135, 38) (711, 515)\n",
            "1.6150903919999564\n",
            "Input image filename:FlagGermany3dmodel01.jpg519d6260-544d-4dcc-8c57-3a760e1f3b36Zoom.jpg\n",
            "(416, 416, 3)\n",
            "Found 1 boxes for img\n",
            "hu 0.48 (421, 106) (994, 1021)\n",
            "1.6668930079999882\n",
            "Input image filename:spain-flag-vector-20256580.jpg\n",
            "(416, 416, 3)\n",
            "Found 0 boxes for img\n",
            "1.62734260000002\n",
            "Input image filename:ch_000012.jpg\n",
            "(416, 416, 3)\n",
            "Found 1 boxes for img\n",
            "ch 0.89 (493, 47) (584, 153)\n",
            "1.661720424999885\n",
            "Input image filename:s-I300.jpg\n",
            "Open Error! Try again!\n",
            "Input image filename:s-l300.jpg\n",
            "(416, 416, 3)\n",
            "Found 1 boxes for img\n",
            "si 0.75 (71, 46) (244, 300)\n",
            "1.632303691999823\n",
            "Input image filename:image.jpg\n",
            "(416, 416, 3)\n",
            "Found 0 boxes for img\n",
            "1.6220464780001294\n",
            "Input image filename:serbia-flag-vector-20334517.jpg\n",
            "(416, 416, 3)\n",
            "Found 0 boxes for img\n",
            "1.6704766350001137\n",
            "Input image filename:gettyimages-470002706-1024x1024.jpg\n",
            "(416, 416, 3)\n",
            "Found 0 boxes for img\n",
            "1.6110497629999827\n",
            "Input image filename:2759322_0.jpg\n",
            "(416, 416, 3)\n",
            "Found 0 boxes for img\n",
            "1.6082887740001297\n",
            "Input image filename:"
          ],
          "name": "stdout"
        }
      ]
    }
  ]
}