{
  "nbformat": 4,
  "nbformat_minor": 0,
  "metadata": {
    "colab": {
      "name": "Untitled1.ipynb",
      "provenance": [],
      "collapsed_sections": [],
      "toc_visible": true
    },
    "kernelspec": {
      "name": "python3",
      "display_name": "Python 3"
    }
  },
  "cells": [
    {
      "cell_type": "code",
      "metadata": {
        "id": "eCv5VxsOoa8D",
        "colab_type": "code",
        "colab": {}
      },
      "source": [
        "!git clone https://github.com/kristinadj/FlagRecognition.git "
      ],
      "execution_count": null,
      "outputs": []
    },
    {
      "cell_type": "code",
      "metadata": {
        "id": "yXd_caX0o69S",
        "colab_type": "code",
        "colab": {}
      },
      "source": [
        "cd FlagRecognition"
      ],
      "execution_count": null,
      "outputs": []
    },
    {
      "cell_type": "code",
      "metadata": {
        "id": "6NnEJhy2o9-P",
        "colab_type": "code",
        "colab": {}
      },
      "source": [
        "!git clone https://github.com/pjreddie/darknet"
      ],
      "execution_count": null,
      "outputs": []
    },
    {
      "cell_type": "code",
      "metadata": {
        "id": "isRZ5xFMpESJ",
        "colab_type": "code",
        "colab": {}
      },
      "source": [
        "cd darknet"
      ],
      "execution_count": null,
      "outputs": []
    },
    {
      "cell_type": "code",
      "metadata": {
        "id": "G55JoTHGpJSN",
        "colab_type": "code",
        "colab": {}
      },
      "source": [
        "!make"
      ],
      "execution_count": null,
      "outputs": []
    },
    {
      "cell_type": "code",
      "metadata": {
        "id": "ztFZxv10pT8Y",
        "colab_type": "code",
        "colab": {}
      },
      "source": [
        "!wget https://pjreddie.com/media/files/darknet53.conv.74 -O darknet53.conv.74"
      ],
      "execution_count": null,
      "outputs": []
    },
    {
      "cell_type": "code",
      "metadata": {
        "id": "3cckMcosw1j1",
        "colab_type": "code",
        "colab": {}
      },
      "source": [
        "cd darknet\n",
        "./darknet detector train /content/FlagRecognition/darknet.data /content/FlagRecognition/darknet-yolov3.cfg ./darknet53.conv.74 > /content/FlagRecognition/train.log"
      ],
      "execution_count": null,
      "outputs": []
    }
  ]
}